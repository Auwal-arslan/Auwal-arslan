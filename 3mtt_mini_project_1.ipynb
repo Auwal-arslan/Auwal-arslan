{
  "nbformat": 4,
  "nbformat_minor": 0,
  "metadata": {
    "colab": {
      "provenance": [],
      "authorship_tag": "ABX9TyMf/fYKeCOErFf+vi7rD26u",
      "include_colab_link": true
    },
    "kernelspec": {
      "name": "python3",
      "display_name": "Python 3"
    },
    "language_info": {
      "name": "python"
    }
  },
  "cells": [
    {
      "cell_type": "markdown",
      "metadata": {
        "id": "view-in-github",
        "colab_type": "text"
      },
      "source": [
        "<a href=\"https://colab.research.google.com/github/Auwal-arslan/Auwal-arslan/blob/main/3mtt_mini_project_1.ipynb\" target=\"_parent\"><img src=\"https://colab.research.google.com/assets/colab-badge.svg\" alt=\"Open In Colab\"/></a>"
      ]
    },
    {
      "cell_type": "markdown",
      "metadata": {
        "id": "97592219-3eef-49da-8dc1-085faa5f8bca"
      },
      "source": [
        "## 1. Quiz Game\n",
        "\n",
        "**Task**: **Create a quiz game made up of 5 questions. The user should be able to enter in answers and the final score calculated.**\n",
        "\n",
        "**Objective**: To create a Python-based quiz game that allows users to answer 5 questions interactively and calculates their final score based on correct answers.\n",
        "\n",
        "**Acceptance Criteria**:\n",
        "\n",
        "- The quiz contains exactly five questions.\n",
        "- Questions and answers are stored in an easily modifiable structure (e.g., a list of dictionaries).\n",
        "- The user can input their answers, and responses are case-insensitive.\n",
        "- Correct answers increase the score, and incorrect answers display the correct answer.\n",
        "- The final score is displayed at the end of the quiz."
      ]
    },
    {
      "cell_type": "markdown",
      "source": [
        "ANSWER"
      ],
      "metadata": {
        "id": "aAXEz_vC5QGZ"
      }
    },
    {
      "cell_type": "code",
      "source": [
        "import pandas as pd  # Import pandas for structured data handling"
      ],
      "metadata": {
        "id": "tDIGKps05Qrb"
      },
      "execution_count": 3,
      "outputs": []
    },
    {
      "cell_type": "code",
      "source": [
        "# Define a QuizGame class to encapsulate quiz behavior\n",
        "class QuizGame:\n",
        "    def __init__(self, questions_df):\n",
        "        \"\"\"\n",
        "        Initialize the quiz with a DataFrame of questions.\n",
        "        :param questions_df: DataFrame containing 'question' and 'answer' columns\n",
        "        \"\"\"\n",
        "        self.questions_df = questions_df\n",
        "        self.score = 0  # Initial score set to 0\n",
        "\n",
        "    def ask_question(self, index, question, correct_answer):\n",
        "        \"\"\"\n",
        "        Ask the user a question, check the answer, and update the score.\n",
        "        :param index: Question number (for display)\n",
        "        :param question: The question text\n",
        "        :param correct_answer: The correct answer to compare against\n",
        "        \"\"\"\n",
        "        user_input = input(f\"Q{index+1}: {question} \").strip().lower()  # Get user input, normalize to lowercase\n",
        "        if user_input == correct_answer.lower():\n",
        "            print(\"✅ Correct!\\n\")\n",
        "            self.score += 1  # Increase score for correct answer\n",
        "        else:\n",
        "            print(f\"❌ Incorrect. The correct answer was: {correct_answer}\\n\")\n",
        "\n",
        "    def run(self):\n",
        "        \"\"\"\n",
        "        Run the quiz by iterating over all questions.\n",
        "        \"\"\"\n",
        "        print(\"🎮 Welcome to the Python Quiz Game!\\n\")\n",
        "        print(\"Answer the following questions:\\n\")\n",
        "        for i, row in self.questions_df.iterrows():\n",
        "            self.ask_question(i, row['question'], row['answer'])  # Ask each question\n",
        "        # Display final score at the end\n",
        "        print(f\"🏁 Quiz Complete! Your final score is: {self.score} out of {len(self.questions_df)}\")"
      ],
      "metadata": {
        "id": "WXBHz0MT6ATq"
      },
      "execution_count": 4,
      "outputs": []
    },
    {
      "cell_type": "code",
      "source": [
        "# Prepare quiz questions and answers using a dictionary\n",
        "data = {\n",
        "    \"question\": [\n",
        "        \"What is the capital of Nigeria?\",\n",
        "        \"What is 5 + 7?\",\n",
        "        \"What is the largest planet in our solar system?\",\n",
        "        \"Who is the first Prime Minister in Ngeria?\",\n",
        "        \"What is the boiling point of water in Celsius?\"\n",
        "    ],\n",
        "    \"answer\": [\n",
        "        \"Abuja\",\n",
        "        \"12\",\n",
        "        \"Jupiter\",\n",
        "        \"Sir Abubakar Tafawa Balewa\",\n",
        "        \"100\"\n",
        "    ]\n",
        "}"
      ],
      "metadata": {
        "id": "XAZvQ9rL5eHj"
      },
      "execution_count": 5,
      "outputs": []
    },
    {
      "cell_type": "code",
      "source": [
        "# Convert the dictionary to a pandas DataFrame\n",
        "questions_df = pd.DataFrame(data)"
      ],
      "metadata": {
        "id": "8GsN8xH15Q01"
      },
      "execution_count": 6,
      "outputs": []
    },
    {
      "cell_type": "code",
      "source": [
        "# Entry point of the program\n",
        "if __name__ == \"__main__\":\n",
        "    quiz = QuizGame(questions_df)  # Create a QuizGame object\n",
        "    quiz.run()  # Start the quiz"
      ],
      "metadata": {
        "colab": {
          "base_uri": "https://localhost:8080/"
        },
        "id": "kSoJg7zr5Q-7",
        "outputId": "e626a6b8-f62b-49d9-a51b-7e629229b169"
      },
      "execution_count": 7,
      "outputs": [
        {
          "output_type": "stream",
          "name": "stdout",
          "text": [
            "🎮 Welcome to the Python Quiz Game!\n",
            "\n",
            "Answer the following questions:\n",
            "\n",
            "Q1: What is the capital of Nigeria? Abuja\n",
            "✅ Correct!\n",
            "\n",
            "Q2: What is 5 + 7? 12\n",
            "✅ Correct!\n",
            "\n",
            "Q3: What is the largest planet in our solar system? Uranus\n",
            "❌ Incorrect. The correct answer was: Jupiter\n",
            "\n",
            "Q4: Who is the first Prime Minister in Ngeria? Sir ABubakar Tafawa Balewa\n",
            "✅ Correct!\n",
            "\n",
            "Q5: What is the boiling point of water in Celsius? 100\n",
            "✅ Correct!\n",
            "\n",
            "🏁 Quiz Complete! Your final score is: 4 out of 5\n"
          ]
        }
      ]
    },
    {
      "cell_type": "markdown",
      "metadata": {
        "id": "79ed75a7-3b62-42c8-bb3d-cf31f523508f"
      },
      "source": [
        "## 2. Number Swapping\n",
        "\n",
        "**Task**: **Swapping two numbers in Python.**\n",
        "\n",
        "**Objective**: Create a Python program that swaps two numbers entered by the user and displays the values before and after swapping.\n",
        "\n",
        "**Acceptance Criteria**:\n",
        "- The program accepts two numbers as input from the user.\n",
        "- The numbers are displayed before and after swapping.\n",
        "- The program uses Python’s tuple unpacking for swapping.\n",
        "- Invalid input (non-numeric) is handled gracefully with an error message.\n",
        "- The program successfully swaps the values without requiring a temporary variable."
      ]
    },
    {
      "cell_type": "markdown",
      "source": [
        "ANSWER"
      ],
      "metadata": {
        "id": "9NJwNb1q6iyK"
      }
    },
    {
      "cell_type": "code",
      "source": [
        "# Program to swap two numbers entered by the user\n",
        "\n",
        "def main():\n",
        "    try:\n",
        "        # Accept two numbers as input from the user\n",
        "        num1 = float(input(\"Enter the first number: \"))\n",
        "        num2 = float(input(\"Enter the second number: \"))\n",
        "\n",
        "        # Display the numbers before swapping\n",
        "        print(f\"Before swapping: num1 = {num1}, num2 = {num2}\")\n",
        "\n",
        "        # Swap the numbers using tuple unpacking\n",
        "        num1, num2 = num2, num1\n",
        "\n",
        "        # Display the numbers after swapping\n",
        "        print(f\"After swapping: num1 = {num1}, num2 = {num2}\")\n",
        "    except ValueError:\n",
        "        # Handle invalid input gracefully\n",
        "        print(\"Invalid input! Please enter numeric values.\")"
      ],
      "metadata": {
        "id": "rbssyc696bVJ"
      },
      "execution_count": 19,
      "outputs": []
    },
    {
      "cell_type": "code",
      "source": [
        "1# Run the program\n",
        "if __name__ == \"__main__\":\n",
        "    main()"
      ],
      "metadata": {
        "colab": {
          "base_uri": "https://localhost:8080/"
        },
        "id": "4vs0WNSH6bqi",
        "outputId": "06316632-3a41-4722-e40f-1fdc3bc53bbf"
      },
      "execution_count": 20,
      "outputs": [
        {
          "output_type": "stream",
          "name": "stdout",
          "text": [
            "Enter the first number: 22\n",
            "Enter the second number: 1\n",
            "Before swapping: num1 = 22.0, num2 = 1.0\n",
            "After swapping: num1 = 1.0, num2 = 22.0\n"
          ]
        }
      ]
    },
    {
      "cell_type": "markdown",
      "metadata": {
        "id": "0f8c8201-65a2-415c-8890-693cfe0bd412"
      },
      "source": [
        "## 3. Prime/Armstrong/Palindrome Number Identifier\n",
        "\n",
        "**Task**: **Write a code/logic to determine if the value entered is a Prime number, an Armstrong Number or a Palindrome number.**\n",
        "\n",
        "**Objective**: To create a Python program that checks whether a user-entered number is a Prime number, Armstrong number, or Palindrome, and displays the results accordingly.\n",
        "\n",
        "**Acceptance Criteria**:\n",
        "- The program accepts a single integer input from the user.\n",
        "- It checks and identifies if the number is a:\n",
        "    - Prime number: A number greater than 1 that is divisible only by 1 and itself.\n",
        "    - Armstrong number: A number equal to the sum of its digits raised to the power of the number of digits.\n",
        "    - Palindrome: A number that reads the same backward as forward.\n",
        "- The program displays appropriate messages for each property satisfied by the number.\n",
        "- If the number does not meet any criteria, a message is displayed stating so.\n",
        "- Non-integer input is handled gracefully with an error message."
      ]
    },
    {
      "cell_type": "markdown",
      "source": [
        "ANSWER"
      ],
      "metadata": {
        "id": "AizCH4bV6mNU"
      }
    },
    {
      "cell_type": "code",
      "source": [
        "import math"
      ],
      "metadata": {
        "id": "uEtIRhax5gdv"
      },
      "execution_count": 6,
      "outputs": []
    },
    {
      "cell_type": "code",
      "source": [
        "def is_prime(num):\n",
        "  \"\"\"\n",
        "  Checks if a number is a prime number.\n",
        "  A prime number is a natural number greater than 1 that has no positive\n",
        "  divisors other than 1 and itself.\n",
        "  \"\"\"\n",
        "  if num <= 1:\n",
        "    return False # Numbers less than or equal to 1 are not prime\n",
        "  if num == 2:\n",
        "    return True # 2 is the only even prime number\n",
        "  if num % 2 == 0:\n",
        "    return False # Other even numbers are not prime\n",
        "  # Check for divisibility only up to the square root of the number\n",
        "  # Check only odd divisors starting from 3\n",
        "  for i in range(3, int(math.sqrt(num)) + 1, 2):\n",
        "    if num % i == 0:\n",
        "      return False\n",
        "  return True # If no divisors found, it's prime\n",
        "\n",
        "def is_armstrong(num):\n",
        "  \"\"\"\n",
        "  Checks if a number is an Armstrong number (Narcissistic Number).\n",
        "  An Armstrong number is an integer such that the sum of its digits raised\n",
        "  to the power of the number of digits is equal to the number itself.\n",
        "  e.g., 153 = 1^3 + 5^3 + 3^3\n",
        "  \"\"\"\n",
        "  if num < 0:\n",
        "      return False # Armstrong numbers are typically defined for non-negative integers\n",
        "\n",
        "  s = str(num)\n",
        "  num_digits = len(s)\n",
        "  sum_of_powers = 0\n",
        "  temp_num = num\n",
        "\n",
        "  while temp_num > 0:\n",
        "    digit = temp_num % 10\n",
        "    sum_of_powers += digit ** num_digits\n",
        "    temp_num //= 10 # Integer division to remove the last digit\n",
        "\n",
        "  return num == sum_of_powers\n",
        "\n",
        "def is_palindrome(num):\n",
        "  \"\"\"\n",
        "  Checks if a number is a Palindrome.\n",
        "  A palindrome number reads the same backward as forward.\n",
        "  e.g., 121, 5005\n",
        "  \"\"\"\n",
        "  if num < 0:\n",
        "      return False # Palindromes are typically checked for non-negative sequences\n",
        "\n",
        "  s = str(num)\n",
        "  return s == s[::-1] # Check if the string is equal to its reverse"
      ],
      "metadata": {
        "id": "QwY8Nw-15grE"
      },
      "execution_count": 7,
      "outputs": []
    },
    {
      "cell_type": "code",
      "source": [
        "# --- Main Program Logic ---\n",
        "if __name__ == \"__main__\":\n",
        "  try:\n",
        "    user_input = input(\"Enter an integer number: \")\n",
        "    number = int(user_input)\n",
        "\n",
        "    # Perform checks\n",
        "    is_pri = is_prime(number)\n",
        "    is_ams = is_armstrong(number)\n",
        "    is_pal = is_palindrome(number)\n",
        "\n",
        "    print(f\"\\n--- Results for {number} ---\")\n",
        "\n",
        "    if is_pri:\n",
        "      print(\"- {} is a Prime number.\" .format(number))\n",
        "      #found_property = True\n",
        "    else:\n",
        "      print(\"- {} is not a Prime number.\" .format(number))\n",
        "\n",
        "    if is_ams:\n",
        "      print(\"- {} is an Amstong number.\" .format(number))\n",
        "      #found_property = True\n",
        "    else:\n",
        "      print(\"- {} is not an Amstrong number.\" .format(number))\n",
        "\n",
        "    if is_pal:\n",
        "      print(\"- {} is a Palindrome number.\" .format(number))\n",
        "      #found_property = True\n",
        "    else:\n",
        "      print(\"- {} is not a Palidrome number.\" .format(number))\n",
        "\n",
        "  except ValueError:\n",
        "    print(\"Error: Invalid input. Please enter an integer.\")\n",
        "  except Exception as e:\n",
        "    print(f\"An unexpected error occurred: {e}\")"
      ],
      "metadata": {
        "colab": {
          "base_uri": "https://localhost:8080/"
        },
        "id": "EeUqGNNg5g5r",
        "outputId": "2ab598c1-86d1-4c91-dd15-4d3a57a8658c"
      },
      "execution_count": 18,
      "outputs": [
        {
          "output_type": "stream",
          "name": "stdout",
          "text": [
            "Enter an integer number: 153\n",
            "\n",
            "--- Results for 153 ---\n",
            "- 153 is not a Prime number.\n",
            "- 153 is an Amstong number.\n",
            "- 153 is not a Palidrome number.\n"
          ]
        }
      ]
    },
    {
      "cell_type": "markdown",
      "metadata": {
        "id": "d0eb118f-70e2-483c-ac16-9373fec0ae05"
      },
      "source": [
        "## 4. The Fibonacci Sequence\n",
        "\n",
        "**Task**: **Generate the Fibonacci Sequence.**\n",
        "\n",
        "**Objective**: To create a Python program that generates the first n terms of the Fibonacci sequence based on user input.\n",
        "\n",
        "**Acceptance Criteria**:\n",
        "- The program accepts a positive integer input (n) from the user.\n",
        "- It generates and displays the first n terms of the Fibonacci sequence.\n",
        "- The Fibonacci sequence is calculated iteratively.\n",
        "- If the input is zero or negative, an appropriate error message is displayed.\n",
        "- Non-integer input is handled gracefully with an error message."
      ]
    },
    {
      "cell_type": "markdown",
      "source": [],
      "metadata": {
        "id": "dbnAPAho7rTG"
      }
    },
    {
      "cell_type": "markdown",
      "source": [
        "ANSWER"
      ],
      "metadata": {
        "id": "Qzr0mGHc7rXB"
      }
    },
    {
      "cell_type": "code",
      "source": [
        "def generate_fibonacci(n):\n",
        "    \"\"\"\n",
        "    Generate the first n terms of the Fibonacci sequence iteratively.\n",
        "    :param n: Number of terms to generate\n",
        "    :return: List containing Fibonacci sequence\n",
        "    \"\"\"\n",
        "    fib_sequence = []  # List to store Fibonacci numbers\n",
        "\n",
        "    a, b = 0, 1  # First two Fibonacci numbers\n",
        "\n",
        "    for _ in range(n):  # Loop n times\n",
        "        fib_sequence.append(a)  # Add current number to the sequence\n",
        "        a, b = b, a + b  # Update values: a becomes b, b becomes a + b (next Fibonacci number)\n",
        "\n",
        "    return fib_sequence"
      ],
      "metadata": {
        "id": "Hz1Q295n49mD"
      },
      "execution_count": 1,
      "outputs": []
    },
    {
      "cell_type": "code",
      "source": [
        "def main():\n",
        "    try:\n",
        "        # Ask the user to input how many Fibonacci numbers to generate\n",
        "        n = int(input(\"Enter the number of terms for the Fibonacci sequence: \"))\n",
        "\n",
        "        if n <= 0:\n",
        "            # Handle case when input is zero or negative\n",
        "            print(\"⚠️ Error: Please enter a positive integer greater than zero.\")\n",
        "        else:\n",
        "            # Generate and display the sequence\n",
        "            sequence = generate_fibonacci(n)\n",
        "            print(f\"\\n🔢 First {n} terms of the Fibonacci sequence:\")\n",
        "            print(sequence)\n",
        "\n",
        "    except ValueError:\n",
        "        # Catch non-integer input and display an error message\n",
        "        print(\"⚠️ Error: Invalid input. Please enter a positive integer.\")"
      ],
      "metadata": {
        "id": "y9nPEWxL7B3x"
      },
      "execution_count": 2,
      "outputs": []
    },
    {
      "cell_type": "code",
      "source": [
        "# Run the main function when this script is executed\n",
        "if __name__ == \"__main__\":\n",
        "    main()"
      ],
      "metadata": {
        "colab": {
          "base_uri": "https://localhost:8080/"
        },
        "id": "vLHNJonY7CL7",
        "outputId": "32cc4883-9cfd-481b-b256-147eb78a5cc2"
      },
      "execution_count": 5,
      "outputs": [
        {
          "output_type": "stream",
          "name": "stdout",
          "text": [
            "Enter the number of terms for the Fibonacci sequence: -9\n",
            "⚠️ Error: Please enter a positive integer greater than zero.\n"
          ]
        }
      ]
    }
  ]
}